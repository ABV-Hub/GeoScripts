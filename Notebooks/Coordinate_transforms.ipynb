{
 "cells": [
  {
   "cell_type": "markdown",
   "metadata": {},
   "source": [
    "# Coordinate Transforms\n",
    "\n",
    "A geoscientist is often left to collate data from multiple different sources. If they are lucky these will all be in the same coordinate system, but  this is not alwayts the case. \n",
    "\n",
    "Tools like [arcgis](https://www.arcgis.com/index.html), or [QGis](https://www.qgis.org/) exist thart can transform these objects using a Graphical User Interface but say we have Millions of points, large meshes, or objects not supported by these packages we need a way to be able to homogenise the coordinate systems."
   ]
  },
  {
   "cell_type": "markdown",
   "metadata": {},
   "source": [
    "## Import Libraries\n",
    "\n",
    "Different solutions and libraires exist to carry out this task and I am not aiming to list them exhaustivly. Here I will use the [pyproj](https://pypi.org/project/pyproj/) library because I am familir with it.\n",
    "\n",
    "We will be calling the `transform` function of `pyproj`. This signature of this function is `inProjection`, `outProjection`, `xvals`, `yvals` (`zvals`, `radians` are optional). The in and out projections are `Proj` objects internal to `pyproj`.To create a `Proj` object you can use [EPSG](http://epsg.io/) to find the code"
   ]
  },
  {
   "cell_type": "code",
   "execution_count": 1,
   "metadata": {},
   "outputs": [],
   "source": [
    "from pyproj import Proj, transform"
   ]
  },
  {
   "cell_type": "markdown",
   "metadata": {},
   "source": [
    "### Input Projection\n",
    "\n",
    "Here the input projection is [WGS84 Psuedo Mercator](http://epsg.io/3857). This is projected coordinate system used for rendering maps in Google Maps, OpenStreetMap, etc."
   ]
  },
  {
   "cell_type": "code",
   "execution_count": 2,
   "metadata": {},
   "outputs": [],
   "source": [
    "inProj = Proj(init='epsg:3857')"
   ]
  },
  {
   "cell_type": "markdown",
   "metadata": {},
   "source": [
    "### Output projection\n",
    "And we want to project this to longitude and latitude [WGS84](http://epsg.io/4326)"
   ]
  },
  {
   "cell_type": "code",
   "execution_count": 3,
   "metadata": {},
   "outputs": [],
   "source": [
    "outProj = Proj(init='epsg:4326')"
   ]
  },
  {
   "cell_type": "markdown",
   "metadata": {},
   "source": [
    "### Test Coordinates\n",
    "So lets declare some input coordinates"
   ]
  },
  {
   "cell_type": "code",
   "execution_count": 31,
   "metadata": {},
   "outputs": [],
   "source": [
    "x = 12897531.863054074\n",
    "y = -3756814.7353761178"
   ]
  },
  {
   "cell_type": "markdown",
   "metadata": {},
   "source": [
    "### Transformed Coordinates"
   ]
  },
  {
   "cell_type": "code",
   "execution_count": 32,
   "metadata": {},
   "outputs": [],
   "source": [
    "long, lat = transform(inProj,outProj,x, y)"
   ]
  },
  {
   "cell_type": "code",
   "execution_count": 33,
   "metadata": {},
   "outputs": [
    {
     "data": {
      "text/plain": [
       "-31.950500000000016"
      ]
     },
     "execution_count": 33,
     "metadata": {},
     "output_type": "execute_result"
    }
   ],
   "source": [
    "lat"
   ]
  },
  {
   "cell_type": "code",
   "execution_count": 34,
   "metadata": {},
   "outputs": [
    {
     "data": {
      "text/plain": [
       "115.86050000000002"
      ]
     },
     "execution_count": 34,
     "metadata": {},
     "output_type": "execute_result"
    }
   ],
   "source": [
    "long"
   ]
  },
  {
   "cell_type": "markdown",
   "metadata": {},
   "source": [
    "### Convert multiple\n",
    "\n",
    "The transform can receive multiple input coordinates in the same coordinate system!!! "
   ]
  },
  {
   "cell_type": "code",
   "execution_count": 85,
   "metadata": {},
   "outputs": [],
   "source": [
    "x = [12897531.863054074, 15428959.347591272, 17034676.21058977, 16343582.547846964]\n",
    "y = [-3756814.7353761178, -4154168.819822751, -3182290.6656223023, -2185452.8280846006]"
   ]
  },
  {
   "cell_type": "code",
   "execution_count": 87,
   "metadata": {},
   "outputs": [],
   "source": [
    "longs, lats = transform(inProj, outProj, x, y)"
   ]
  },
  {
   "cell_type": "code",
   "execution_count": 88,
   "metadata": {},
   "outputs": [
    {
     "data": {
      "text/plain": [
       "[115.86050000000002, 138.6007, 153.0251, 146.81689999999995]"
      ]
     },
     "execution_count": 88,
     "metadata": {},
     "output_type": "execute_result"
    }
   ],
   "source": [
    "longs"
   ]
  },
  {
   "cell_type": "code",
   "execution_count": 89,
   "metadata": {},
   "outputs": [
    {
     "data": {
      "text/plain": [
       "[-31.950500000000016, -34.928500000000014, -27.469799999999996, -19.259]"
      ]
     },
     "execution_count": 89,
     "metadata": {},
     "output_type": "execute_result"
    }
   ],
   "source": [
    "lats"
   ]
  },
  {
   "cell_type": "markdown",
   "metadata": {},
   "source": [
    "## View Results\n",
    "\n",
    "We are going to use a library called ipyleaflet to view the results"
   ]
  },
  {
   "cell_type": "code",
   "execution_count": 91,
   "metadata": {
    "scrolled": false
   },
   "outputs": [
    {
     "data": {
      "application/vnd.jupyter.widget-view+json": {
       "model_id": "cb791963c8e246cc9a1fc17d1406ea76",
       "version_major": 2,
       "version_minor": 0
      },
      "text/plain": [
       "Map(basemap={'url': 'http://server.arcgisonline.com/ArcGIS/rest/services/World_Imagery/MapServer/tile/{z}/{y}/…"
      ]
     },
     "metadata": {},
     "output_type": "display_data"
    }
   ],
   "source": [
    "# Import\n",
    "from ipyleaflet import Marker, Map, basemaps\n",
    "\n",
    "# Declare the centre\n",
    "center = (-25.2744, 133.7751)\n",
    "\n",
    "# Create the map\n",
    "m = Map(center=center, zoom=4, basemap=basemaps.Esri.WorldImagery)\n",
    "# Add the marker\n",
    "for i in range(len(longs)):\n",
    "    marker = Marker(location=(lats[i], longs[i]), draggable=False)\n",
    "    m.add_layer(marker);\n",
    "\n",
    "# Show the map\n",
    "m"
   ]
  },
  {
   "cell_type": "markdown",
   "metadata": {},
   "source": [
    "## Mesh Transform"
   ]
  },
  {
   "cell_type": "code",
   "execution_count": 113,
   "metadata": {},
   "outputs": [],
   "source": [
    "import os"
   ]
  },
  {
   "cell_type": "code",
   "execution_count": 116,
   "metadata": {},
   "outputs": [
    {
     "data": {
      "text/plain": [
       "'..\\\\Data\\\\mesh.obj'"
      ]
     },
     "execution_count": 116,
     "metadata": {},
     "output_type": "execute_result"
    }
   ],
   "source": [
    "filename = os.path.join('..', 'Data', 'mesh.obj')\n",
    "filename"
   ]
  },
  {
   "cell_type": "code",
   "execution_count": 212,
   "metadata": {},
   "outputs": [],
   "source": [
    "mesh = {'v' : [], 'f' : []}\n",
    "with open(filename, 'r') as f:\n",
    "    line = f.readline()\n",
    "    while line:\n",
    "        line = line.split()\n",
    "        mesh[line[0]].append(line[1:])\n",
    "        line = f.readline()\n",
    "mesh['v'] = numpy.array(mesh['v']).astype(numpy.float).tolist()"
   ]
  },
  {
   "cell_type": "code",
   "execution_count": 153,
   "metadata": {},
   "outputs": [],
   "source": [
    "xs, ys, zs = numpy.transpose(mesh['v'])"
   ]
  },
  {
   "cell_type": "code",
   "execution_count": 171,
   "metadata": {},
   "outputs": [],
   "source": [
    "xmin = numpy.min(xs)\n",
    "ymin = numpy.min(ys)\n",
    "zmin = numpy.min(zs)\n",
    "\n",
    "xmax = numpy.max(xs)\n",
    "ymax = numpy.max(ys)\n",
    "zmax = numpy.max(zs)"
   ]
  },
  {
   "cell_type": "code",
   "execution_count": 205,
   "metadata": {},
   "outputs": [
    {
     "data": {
      "application/vnd.jupyter.widget-view+json": {
       "model_id": "7e7ea2328a4f43bb921063fa565d88e3",
       "version_major": 2,
       "version_minor": 0
      },
      "text/plain": [
       "VBox(children=(Figure(camera=PerspectiveCamera(fov=46.0, position=(0.0, 0.0, 2.0), quaternion=(0.0, 0.0, 0.0, …"
      ]
     },
     "metadata": {},
     "output_type": "display_data"
    }
   ],
   "source": [
    "ipv.figure()\n",
    "ipv.scatter(xs, ys, zs)\n",
    "ipv.xlim(xmin, xmax)\n",
    "ipv.ylim(ymin, ymax)\n",
    "ipv.zlim(zmin, zmax)\n",
    "ipv.show()"
   ]
  },
  {
   "cell_type": "markdown",
   "metadata": {},
   "source": [
    "## convert"
   ]
  },
  {
   "cell_type": "code",
   "execution_count": 206,
   "metadata": {},
   "outputs": [],
   "source": [
    "longs, lats = transform(inProj, outProj, xs, ys)"
   ]
  },
  {
   "cell_type": "markdown",
   "metadata": {},
   "source": [
    "## Export"
   ]
  },
  {
   "cell_type": "code",
   "execution_count": 210,
   "metadata": {},
   "outputs": [],
   "source": [
    "verts = numpy.array([longs, lats, zs]).astype(str).T"
   ]
  },
  {
   "cell_type": "code",
   "execution_count": 213,
   "metadata": {},
   "outputs": [],
   "source": [
    "with open('test.obj', 'w') as f:\n",
    "    for vert in verts:\n",
    "        f.write('v ' + \"\\t\".join(vert))\n",
    "    for tri in mesh['f']:\n",
    "        f.write('f ' + \"\\t\".join(tri))"
   ]
  }
 ],
 "metadata": {
  "kernelspec": {
   "display_name": "Python 3",
   "language": "python",
   "name": "python3"
  },
  "language_info": {
   "codemirror_mode": {
    "name": "ipython",
    "version": 3
   },
   "file_extension": ".py",
   "mimetype": "text/x-python",
   "name": "python",
   "nbconvert_exporter": "python",
   "pygments_lexer": "ipython3",
   "version": "3.6.7"
  }
 },
 "nbformat": 4,
 "nbformat_minor": 2
}
